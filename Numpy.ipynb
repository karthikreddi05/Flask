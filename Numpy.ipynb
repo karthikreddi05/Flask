{
 "cells": [
  {
   "cell_type": "code",
   "execution_count": 1,
   "id": "696e799c-8b9d-44ed-bb60-34a685283767",
   "metadata": {},
   "outputs": [
    {
     "name": "stdout",
     "output_type": "stream",
     "text": [
      "Shape: (3, 4)\n",
      "Size: 12\n",
      "Dimensions: 2\n"
     ]
    }
   ],
   "source": [
    "import numpy as np\n",
    "\n",
    "# Define the array\n",
    "my_array = np.array([[1, 2, 3, 4],\n",
    "                    [5, 6, 7, 8],\n",
    "                    [9, 10, 11, 12]])\n",
    "\n",
    "# Print shape, size, and dimensions\n",
    "print(\"Shape:\", my_array.shape)\n",
    "print(\"Size:\", my_array.size)\n",
    "print(\"Dimensions:\", my_array.ndim)"
   ]
  },
  {
   "cell_type": "code",
   "execution_count": 2,
   "id": "f3990fda-6566-4930-80e0-df6df01598f9",
   "metadata": {},
   "outputs": [
    {
     "name": "stdout",
     "output_type": "stream",
     "text": [
      "First row: [1, 2, 3, 4]\n"
     ]
    }
   ],
   "source": [
    "my_array = [[1, 2, 3, 4],\n",
    "            [5, 6, 7, 8],\n",
    "            [9, 10, 11, 12]]\n",
    "\n",
    "first_row = my_array[0]\n",
    "\n",
    "print(\"First row:\", first_row)"
   ]
  },
  {
   "cell_type": "code",
   "execution_count": 3,
   "id": "dba66a03-ad92-4089-8f40-edeb3b01ea52",
   "metadata": {},
   "outputs": [
    {
     "name": "stdout",
     "output_type": "stream",
     "text": [
      "Element at the third row and fourth column: 12\n"
     ]
    }
   ],
   "source": [
    "import numpy as np\n",
    "\n",
    "# Define the array\n",
    "my_array = np.array([[1, 2, 3, 4],\n",
    "                    [5, 6, 7, 8],\n",
    "                    [9, 10, 11, 12]])\n",
    "\n",
    "# Access the element at the third row and fourth column\n",
    "element = my_array[2, 3]\n",
    "\n",
    "print(\"Element at the third row and fourth column:\", element)"
   ]
  },
  {
   "cell_type": "code",
   "execution_count": 4,
   "id": "e8ab6459-6103-40fd-9b1d-b80b49bc2536",
   "metadata": {},
   "outputs": [
    {
     "name": "stdout",
     "output_type": "stream",
     "text": [
      "All odd-indexed elements:\n",
      "[[6 8]]\n"
     ]
    }
   ],
   "source": [
    "import numpy as np\n",
    "\n",
    "# Define the array\n",
    "my_array = np.array([[1, 2, 3, 4],\n",
    "                    [5, 6, 7, 8],\n",
    "                    [9, 10, 11, 12]])\n",
    "\n",
    "# Extract all odd-indexed elements\n",
    "odd_elements = my_array[1::2, 1::2]\n",
    "\n",
    "print(\"All odd-indexed elements:\")\n",
    "print(odd_elements)"
   ]
  },
  {
   "cell_type": "code",
   "execution_count": 5,
   "id": "a6ea5383-1906-4178-ae4e-1f5785a9dd96",
   "metadata": {},
   "outputs": [
    {
     "name": "stdout",
     "output_type": "stream",
     "text": [
      "Random 3x3 matrix:\n",
      "[[0.95040904 0.85144431 0.41323889]\n",
      " [0.53360034 0.46336112 0.24526922]\n",
      " [0.84610116 0.78255803 0.4238013 ]]\n"
     ]
    }
   ],
   "source": [
    "import numpy as np\n",
    "\n",
    "# Generate a random 3x3 matrix with values between 0 and 1\n",
    "random_matrix = np.random.rand(3, 3)\n",
    "\n",
    "print(\"Random 3x3 matrix:\")\n",
    "print(random_matrix)"
   ]
  },
  {
   "cell_type": "code",
   "execution_count": 6,
   "id": "ed1ab901-3937-49ea-857e-3cea64eb8784",
   "metadata": {},
   "outputs": [
    {
     "name": "stdout",
     "output_type": "stream",
     "text": [
      "Original array shape: (3, 4)\n",
      "Expanded array shape: (3, 4, 1)\n"
     ]
    }
   ],
   "source": [
    "import numpy as np\n",
    "\n",
    "# Given array\n",
    "original_array = np.array([[1, 2, 3, 4],\n",
    "                           [5, 6, 7, 8],\n",
    "                           [9, 10, 11, 12]])\n",
    "\n",
    "# Increase dimension along a new axis (axis=2 in this case)\n",
    "expanded_array = original_array[:, :, np.newaxis]\n",
    "\n",
    "# Alternatively, you can use numpy.expand_dims\n",
    "# expanded_array = np.expand_dims(original_array, axis=2)\n",
    "\n",
    "print(\"Original array shape:\", original_array.shape)\n",
    "print(\"Expanded array shape:\", expanded_array.shape)"
   ]
  },
  {
   "cell_type": "code",
   "execution_count": 7,
   "id": "0cdc04cd-d841-4bd3-970e-3f4a98030352",
   "metadata": {},
   "outputs": [
    {
     "name": "stdout",
     "output_type": "stream",
     "text": [
      "Original array:\n",
      "[[ 1  2  3  4]\n",
      " [ 5  6  7  8]\n",
      " [ 9 10 11 12]]\n",
      "\n",
      "Transposed array:\n",
      "[[ 1  5  9]\n",
      " [ 2  6 10]\n",
      " [ 3  7 11]\n",
      " [ 4  8 12]]\n"
     ]
    }
   ],
   "source": [
    "import numpy as np\n",
    "\n",
    "# Given array\n",
    "original_array = np.array([[1, 2, 3, 4],\n",
    "                           [5, 6, 7, 8],\n",
    "                           [9, 10, 11, 12]])\n",
    "\n",
    "# Transpose the array using numpy.transpose\n",
    "transposed_array = np.transpose(original_array)\n",
    "\n",
    "# Alternatively, you can use the .T attribute\n",
    "# transposed_array = original_array.T\n",
    "\n",
    "print(\"Original array:\")\n",
    "print(original_array)\n",
    "\n",
    "print(\"\\nTransposed array:\")\n",
    "print(transposed_array)"
   ]
  },
  {
   "cell_type": "code",
   "execution_count": 8,
   "id": "37ba030e-246f-4477-9157-c2b12bc315d8",
   "metadata": {},
   "outputs": [],
   "source": [
    "import numpy as np\n",
    "\n",
    "# Generate a 2x3 random array with values between 0 and 1\n",
    "random_array = np.random.rand(2, 3)"
   ]
  },
  {
   "cell_type": "code",
   "execution_count": 9,
   "id": "c9fe0574-fc62-4f86-b349-459bc6819f85",
   "metadata": {},
   "outputs": [
    {
     "name": "stdout",
     "output_type": "stream",
     "text": [
      "Original matrix:\n",
      "[[2 1]\n",
      " [7 4]]\n",
      "\n",
      "Inverse matrix:\n",
      "[[ 4. -1.]\n",
      " [-7.  2.]]\n",
      "\n",
      "Product of the matrix and its inverse (should be identity matrix):\n",
      "[[1. 0.]\n",
      " [0. 1.]]\n"
     ]
    }
   ],
   "source": [
    "import numpy as np\n",
    "\n",
    "# Define a 2x2 matrix\n",
    "matrix = np.array([[2, 1],\n",
    "                   [7, 4]])\n",
    "\n",
    "# Compute the inverse of the matrix\n",
    "inverse_matrix = np.linalg.inv(matrix)\n",
    "\n",
    "print(\"Original matrix:\")\n",
    "print(matrix)\n",
    "\n",
    "print(\"\\nInverse matrix:\")\n",
    "print(inverse_matrix)\n",
    "\n",
    "# Verify that the product of the matrix and its inverse is the identity matrix\n",
    "identity_matrix = np.dot(matrix, inverse_matrix)\n",
    "print(\"\\nProduct of the matrix and its inverse (should be identity matrix):\")\n",
    "print(identity_matrix)"
   ]
  },
  {
   "cell_type": "code",
   "execution_count": 10,
   "id": "e03d5d1d-ff90-431b-8592-1094b90e0ac6",
   "metadata": {},
   "outputs": [
    {
     "name": "stdout",
     "output_type": "stream",
     "text": [
      "Original array:\n",
      "[1 2 3 4 5 6]\n",
      "\n",
      "Reshaped array:\n",
      "[[1 2 3]\n",
      " [4 5 6]]\n"
     ]
    }
   ],
   "source": [
    "import numpy as np\n",
    "\n",
    "# Create a 1D array\n",
    "original_array = np.array([1, 2, 3, 4, 5, 6])\n",
    "\n",
    "# Reshape the 1D array to a 2D array with 2 rows and 3 columns\n",
    "reshaped_array = np.reshape(original_array, (2, 3))\n",
    "\n",
    "print(\"Original array:\")\n",
    "print(original_array)\n",
    "\n",
    "print(\"\\nReshaped array:\")\n",
    "print(reshaped_array)"
   ]
  },
  {
   "cell_type": "code",
   "execution_count": null,
   "id": "2325da08-54e8-4317-86e9-ed224828e737",
   "metadata": {},
   "outputs": [],
   "source": []
  }
 ],
 "metadata": {
  "kernelspec": {
   "display_name": "Python 3 (ipykernel)",
   "language": "python",
   "name": "python3"
  },
  "language_info": {
   "codemirror_mode": {
    "name": "ipython",
    "version": 3
   },
   "file_extension": ".py",
   "mimetype": "text/x-python",
   "name": "python",
   "nbconvert_exporter": "python",
   "pygments_lexer": "ipython3",
   "version": "3.10.8"
  }
 },
 "nbformat": 4,
 "nbformat_minor": 5
}
